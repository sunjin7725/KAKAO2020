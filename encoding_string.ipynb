{
 "cells": [
  {
   "cell_type": "code",
   "execution_count": 56,
   "metadata": {},
   "outputs": [],
   "source": [
    "import numpy as np"
   ]
  },
  {
   "cell_type": "code",
   "execution_count": 57,
   "metadata": {},
   "outputs": [],
   "source": [
    "test1 = \"ababcdcdababcdcd\"\n",
    "test2 = \"abcabcdede\"\n",
    "test3 = \"aabbaccc\"\n",
    "test4 = \"aaaaa\"\n",
    "answer1 = \"2ababcdcd\"\n",
    "answer2 = \"2abcdede\"\n",
    "answer3 = \"2a2ba3c\"\n",
    "answer4 = \"5a\""
   ]
  },
  {
   "cell_type": "code",
   "execution_count": 151,
   "metadata": {},
   "outputs": [],
   "source": [
    "s=test1\n",
    "\n",
    "_dict = {}\n",
    "count = 0\n",
    "k=8\n",
    "for i in range(0,len(s),k):\n",
    "    _dict[count] = s[i+0:i+k]\n",
    "    count += 1"
   ]
  },
  {
   "cell_type": "code",
   "execution_count": 153,
   "metadata": {},
   "outputs": [
    {
     "name": "stdout",
     "output_type": "stream",
     "text": [
      "ababcdcd\n",
      "0 :: \n",
      "ababcdcd\n",
      "1 :: 2ababcdcd\n"
     ]
    }
   ],
   "source": [
    "_str = \"\"\n",
    "result = \"\"\n",
    "count = 0\n",
    "for i in range(len(_dict)):\n",
    "    if _str != _dict[i]:\n",
    "        if count is not 0:\n",
    "            result += str(count+1)\n",
    "            result += _dict[i-1]\n",
    "            count = 0\n",
    "        else:\n",
    "            if i != 0:\n",
    "                result += _dict[i-1]\n",
    "        if i == len(_dict)-1:\n",
    "            result += _dict[i]\n",
    "        _str = _dict[i]\n",
    "    else: \n",
    "        count += 1\n",
    "        if i == len(_dict)-1:\n",
    "            result += str(count+1)\n",
    "            result += _dict[i-1]\n",
    "    \n",
    "    print(_str)\n",
    "    print(i,\"::\",result)\n"
   ]
  },
  {
   "cell_type": "code",
   "execution_count": 171,
   "metadata": {},
   "outputs": [],
   "source": [
    "def solution(s):\n",
    "    count_dict = {}\n",
    "    for index in range(len(s)):\n",
    "        _dict = list_to_dict(s,index+1)\n",
    "        _str = \"\"\n",
    "        result = \"\"\n",
    "        count = 0\n",
    "        \n",
    "        for i in range(len(_dict)):\n",
    "            if _str != _dict[i]:\n",
    "                if count is not 0:\n",
    "                    result += str(count+1)\n",
    "                    result += _dict[i-1]\n",
    "                    count = 0\n",
    "                else:\n",
    "                    if i != 0:\n",
    "                        result += _dict[i-1]\n",
    "                if i == len(_dict)-1:\n",
    "                    result += _dict[i]\n",
    "                _str = _dict[i]\n",
    "            else: \n",
    "                count += 1\n",
    "                if i == len(_dict)-1:\n",
    "                    result += str(count+1)\n",
    "                    result += _dict[i-1]\n",
    "        count_dict[index] = len(result)\n",
    "        \n",
    "    answer = min(count_dict.values())\n",
    "    return answer\n",
    "\n",
    "def list_to_dict(s,k):\n",
    "    _dict = {}\n",
    "    count = 0\n",
    "    for i in range(0,len(s),k):\n",
    "        _dict[count] = s[i+0:i+k]\n",
    "        count += 1\n",
    "    \n",
    "    return _dict"
   ]
  },
  {
   "cell_type": "code",
   "execution_count": 173,
   "metadata": {},
   "outputs": [
    {
     "data": {
      "text/plain": [
       "2"
      ]
     },
     "execution_count": 173,
     "metadata": {},
     "output_type": "execute_result"
    }
   ],
   "source": [
    "solution(test4)"
   ]
  },
  {
   "cell_type": "code",
   "execution_count": null,
   "metadata": {},
   "outputs": [],
   "source": []
  }
 ],
 "metadata": {
  "kernelspec": {
   "display_name": "Python 3",
   "language": "python",
   "name": "python3"
  },
  "language_info": {
   "codemirror_mode": {
    "name": "ipython",
    "version": 3
   },
   "file_extension": ".py",
   "mimetype": "text/x-python",
   "name": "python",
   "nbconvert_exporter": "python",
   "pygments_lexer": "ipython3",
   "version": "3.6.3"
  }
 },
 "nbformat": 4,
 "nbformat_minor": 2
}
