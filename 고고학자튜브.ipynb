{
 "cells": [
  {
   "cell_type": "code",
   "execution_count": 1,
   "metadata": {},
   "outputs": [],
   "source": [
    "import math\n",
    "from matplotlib import pyplot as plt"
   ]
  },
  {
   "cell_type": "code",
   "execution_count": 2,
   "metadata": {},
   "outputs": [],
   "source": [
    "key = [[0,0,0],[1,0,0],[0,1,1]]\n",
    "M = len(key[:][0])\n",
    "lock = [[1,1,1],[1,1,0],[1,0,1]]\n",
    "N = len(lock[:][0])"
   ]
  },
  {
   "cell_type": "code",
   "execution_count": 3,
   "metadata": {},
   "outputs": [
    {
     "data": {
      "image/png": "[encoded data removed]",
      "text/plain": [
       "<matplotlib.figure.Figure at 0x20ff9535860>"
      ]
     },
     "metadata": {},
     "output_type": "display_data"
    },
    {
     "data": {
      "image/png": "[encoded data removed]",
      "text/plain": [
       "<matplotlib.figure.Figure at 0x20ffb5b6668>"
      ]
     },
     "metadata": {},
     "output_type": "display_data"
    }
   ],
   "source": [
    "plt.imshow(key)\n",
    "plt.show()\n",
    "plt.imshow(lock)\n",
    "plt.show()"
   ]
  },
  {
   "cell_type": "code",
   "execution_count": 4,
   "metadata": {},
   "outputs": [],
   "source": [
    "expansion_lock = np.zeros((N+2*(M-1),N+2*(M-1)))\n",
    "for i in range(N):\n",
    "    for j in range(N):\n",
    "        expansion_lock[i+M-1][j+M-1] = lock[i][j]"
   ]
  },
  {
   "cell_type": "code",
   "execution_count": 5,
   "metadata": {},
   "outputs": [
    {
     "data": {
      "image/png": "[encoded data removed]",
      "text/plain": [
       "<matplotlib.figure.Figure at 0x20ffb6460f0>"
      ]
     },
     "metadata": {},
     "output_type": "display_data"
    }
   ],
   "source": [
    "plt.imshow(expansion_lock)\n",
    "plt.show()"
   ]
  },
  {
   "cell_type": "code",
   "execution_count": 21,
   "metadata": {},
   "outputs": [
    {
     "data": {
      "image/png": "[encoded data removed]",
      "text/plain": [
       "<matplotlib.figure.Figure at 0x20ffb8fe208>"
      ]
     },
     "metadata": {},
     "output_type": "display_data"
    }
   ],
   "source": [
    "plt.imshow(expansion_lock[M-1:M-1+N,M-1:M-1+N])\n",
    "plt.show()"
   ]
  },
  {
   "cell_type": "code",
   "execution_count": 18,
   "metadata": {},
   "outputs": [],
   "source": [
    "expansion_key = np.zeros((N+2*(M-1),N+2*(M-1)))\n",
    "for i in range(M):\n",
    "    for j in range(M):\n",
    "        expansion_key[0+i][1+j] = key[i][j]"
   ]
  },
  {
   "cell_type": "code",
   "execution_count": 19,
   "metadata": {},
   "outputs": [
    {
     "data": {
      "image/png": "[encoded data removed]",
      "text/plain": [
       "<matplotlib.figure.Figure at 0x20ffb812828>"
      ]
     },
     "metadata": {},
     "output_type": "display_data"
    }
   ],
   "source": [
    "plt.imshow(expansion_key)\n",
    "plt.show()"
   ]
  },
  {
   "cell_type": "code",
   "execution_count": 9,
   "metadata": {},
   "outputs": [
    {
     "data": {
      "image/png": "[encoded data removed]",
      "text/plain": [
       "<matplotlib.figure.Figure at 0x20ffb763f60>"
      ]
     },
     "metadata": {},
     "output_type": "display_data"
    }
   ],
   "source": [
    "result = np.ceil((np.array(expansion_key)+np.array(expansion_lock))/2)\n",
    "plt.imshow(result)\n",
    "plt.show()"
   ]
  },
  {
   "cell_type": "code",
   "execution_count": 14,
   "metadata": {},
   "outputs": [],
   "source": [
    "def collect_key(key,lock,N,M):\n",
    "    result = np.ceil((np.array(key)+np.array(lock))/2)\n",
    "    \n",
    "    result = result[M-1:M-1+N,M-1:M-1+N]\n",
    "    \n",
    "    if np.sum(result) == N*N:\n",
    "        return True\n",
    "    \n",
    "    return False"
   ]
  },
  {
   "cell_type": "code",
   "execution_count": 15,
   "metadata": {},
   "outputs": [
    {
     "data": {
      "text/plain": [
       "False"
      ]
     },
     "execution_count": 15,
     "metadata": {},
     "output_type": "execute_result"
    }
   ],
   "source": [
    "collect_key(expansion_key,expansion_lock,N,M)"
   ]
  },
  {
   "cell_type": "code",
   "execution_count": 20,
   "metadata": {},
   "outputs": [
    {
     "ename": "SyntaxError",
     "evalue": "'return' outside function (<ipython-input-20-8f4368b550a9>, line 15)",
     "output_type": "error",
     "traceback": [
      "\u001b[1;36m  File \u001b[1;32m\"<ipython-input-20-8f4368b550a9>\"\u001b[1;36m, line \u001b[1;32m15\u001b[0m\n\u001b[1;33m    return True\u001b[0m\n\u001b[1;37m    ^\u001b[0m\n\u001b[1;31mSyntaxError\u001b[0m\u001b[1;31m:\u001b[0m 'return' outside function\n"
     ]
    }
   ],
   "source": [
    "expansion_lock = np.zeros((N+2*(M-1),N+2*(M-1)))\n",
    "for i in range(N):\n",
    "    for j in range(N):\n",
    "        expansion_lock[i+M-1][j+M-1] = lock[i][j]\n",
    "\n",
    "for rotate_count in range(4):\n",
    "    for n in range(N+M-1):\n",
    "        for m in range(N+M-1):                    \n",
    "            expansion_key = np.zeros((N+2*(M-1),N+2*(M-1)))\n",
    "            for i in range(M):\n",
    "                for j in range(M):\n",
    "                    expansion_key[n+i][m+j] = key[i][j]\n",
    "                    \n",
    "            if collect_key(expansion_key, expansion_lock, N,M):\n",
    "                return True\n",
    "            \n",
    "    key = np.rot90(key)"
   ]
  },
  {
   "cell_type": "code",
   "execution_count": 71,
   "metadata": {},
   "outputs": [
    {
     "data": {
      "image/png": "[encoded data removed]",
      "text/plain": [
       "<matplotlib.figure.Figure at 0x1b7ecd67f28>"
      ]
     },
     "metadata": {},
     "output_type": "display_data"
    },
    {
     "data": {
      "text/plain": [
       "False"
      ]
     },
     "execution_count": 71,
     "metadata": {},
     "output_type": "execute_result"
    }
   ],
   "source": [
    "result = np.ceil((np.array(key)+np.array(lock))/2)\n",
    "plt.imshow(result)\n",
    "plt.show()\n",
    "collect_key(key,lock)"
   ]
  },
  {
   "cell_type": "code",
   "execution_count": 15,
   "metadata": {},
   "outputs": [],
   "source": [
    "import numpy as np\n",
    "import math\n",
    "from matplotlib import pyplot as plt\n",
    "import cv2\n",
    "import scipy.misc\n",
    "\n",
    "key = [[0,0,0],[1,0,0],[0,1,1],[1,1,1]]\n",
    "M = len(key[:][0])\n",
    "lock = [[1,1,1],[1,1,0],[1,0,1]]\n",
    "N = len(lock[:][0])\n",
    "\n",
    "def collect_key(key,lock,N,M):\n",
    "    result = np.array(key)+np.array(lock)\n",
    "    \n",
    "    result = result[M-1:M-1+N,M-1:M-1+N]\n",
    "    \n",
    "    if np.sum(result) == N*N:\n",
    "        if np.min(result) != 0:\n",
    "            return True\n",
    "    \n",
    "    return False\n",
    "\n",
    "def solution(key, lock):\n",
    "    M = len(key[:][0])\n",
    "    N = len(lock[:][0])\n",
    "\n",
    "    expansion_lock = np.zeros((N+2*(M-1),N+2*(M-1)))\n",
    "    for i in range(N):\n",
    "        for j in range(N):\n",
    "            expansion_lock[i+M-1][j+M-1] = lock[i][j]\n",
    "            \n",
    "    for rotate_count in range(4):\n",
    "        for n in range(N+M-1):\n",
    "            for m in range(N+M-1):\n",
    "                expansion_key = np.zeros((N+2*(M-1),N+2*(M-1)))\n",
    "                for i in range(M):\n",
    "                    for j in range(M):\n",
    "                        expansion_key[n+i][m+j] = key[i][j]\n",
    "\n",
    "                if collect_key(expansion_key, expansion_lock, N,M):\n",
    "                    return True\n",
    "                \n",
    "#         plt.imsave(\"./\"+str(rotate_count)+\".png\",key)\n",
    "        key = np.rot90(key)\n",
    "    return False"
   ]
  },
  {
   "cell_type": "code",
   "execution_count": 16,
   "metadata": {},
   "outputs": [
    {
     "data": {
      "text/plain": [
       "True"
      ]
     },
     "execution_count": 16,
     "metadata": {},
     "output_type": "execute_result"
    }
   ],
   "source": [
    "solution(key, lock)"
   ]
  },
  {
   "cell_type": "code",
   "execution_count": null,
   "metadata": {},
   "outputs": [],
   "source": []
  }
 ],
 "metadata": {
  "kernelspec": {
   "display_name": "Python 3",
   "language": "python",
   "name": "python3"
  },
  "language_info": {
   "codemirror_mode": {
    "name": "ipython",
    "version": 3
   },
   "file_extension": ".py",
   "mimetype": "text/x-python",
   "name": "python",
   "nbconvert_exporter": "python",
   "pygments_lexer": "ipython3",
   "version": "3.6.3"
  }
 },
 "nbformat": 4,
 "nbformat_minor": 2
}
