{
 "cells": [
  {
   "cell_type": "code",
   "execution_count": 25,
   "metadata": {},
   "outputs": [],
   "source": [
    "import numpy as np"
   ]
  },
  {
   "cell_type": "code",
   "execution_count": 26,
   "metadata": {},
   "outputs": [],
   "source": [
    "class Node(object):\n",
    "    def __init__(self, key):\n",
    "        self.key = key\n",
    "        self.children = {}\n",
    "        self.count = 0\n",
    "        \n",
    "class Trie(object):\n",
    "    def __init__(self):\n",
    "        self.head = Node(None)\n",
    "        \n",
    "    def insert(self, string):\n",
    "        curr_node = self.head\n",
    "        \n",
    "        for char in string:\n",
    "            if char not in curr_node.children:\n",
    "                curr_node.children[char] = Node(char)\n",
    "                \n",
    "            curr_node = curr_node.children[char]\n",
    "            curr_node.count += 1\n",
    "\n",
    "    def starts_with(self, prefix):\n",
    "        curr_node = self.head\n",
    "        if curr_node.children[prefix[0]]:\n",
    "            curr_node = curr_node.children[prefix[0]]\n",
    "        else:\n",
    "            return 0\n",
    "        \n",
    "        for index in range(1, len(prefix)):\n",
    "            if curr_node.children[prefix[index]]:\n",
    "                curr_node = curr_node.children[prefix[index]]\n",
    "            else:\n",
    "                return 0\n",
    "                \n",
    "        return curr_node.count"
   ]
  },
  {
   "cell_type": "code",
   "execution_count": 27,
   "metadata": {},
   "outputs": [],
   "source": [
    "words = [\"frodo\", \"front\", \"frost\", \"frozen\", \"frame\", \"kakao\"]\n",
    "queries = [\"fro??\", \"????o\", \"fr???\", \"fro???\", \"pro?\"]"
   ]
  },
  {
   "cell_type": "code",
   "execution_count": 33,
   "metadata": {},
   "outputs": [],
   "source": [
    "front_dict = {}\n",
    "back_dict = {}\n",
    "count = []\n",
    "\n",
    "for word in words:\n",
    "    if len(word) not in front_dict:\n",
    "        front_dict[len(word)] = Trie()\n",
    "    if len(word) not in back_dict:\n",
    "        back_dict[len(word)] = Trie()\n",
    "    \n",
    "    front_dict[len(word)].insert(word)\n",
    "    back_dict[len(word)].insert(word[::-1])"
   ]
  },
  {
   "cell_type": "code",
   "execution_count": 34,
   "metadata": {},
   "outputs": [],
   "source": [
    "for query in queries:\n",
    "    try:\n",
    "        if query[0] is \"?\":\n",
    "            count.append(back_dict[len(query)].starts_with(query[::-1].replace('?','')))\n",
    "        else: \n",
    "            count.append(front_dict[len(query)].starts_with(query.replace('?','')))\n",
    "    except:\n",
    "        count.append(0)"
   ]
  },
  {
   "cell_type": "code",
   "execution_count": 35,
   "metadata": {},
   "outputs": [
    {
     "data": {
      "text/plain": [
       "[3, 2, 4, 1, 0]"
      ]
     },
     "execution_count": 35,
     "metadata": {},
     "output_type": "execute_result"
    }
   ],
   "source": [
    "count"
   ]
  },
  {
   "cell_type": "code",
   "execution_count": 19,
   "metadata": {},
   "outputs": [
    {
     "ename": "KeyError",
     "evalue": "1",
     "output_type": "error",
     "traceback": [
      "\u001b[1;31m---------------------------------------------------------------------------\u001b[0m",
      "\u001b[1;31mKeyError\u001b[0m                                  Traceback (most recent call last)",
      "\u001b[1;32m<ipython-input-19-3588155b7808>\u001b[0m in \u001b[0;36m<module>\u001b[1;34m()\u001b[0m\n\u001b[0;32m      2\u001b[0m \u001b[0mback_dict\u001b[0m \u001b[1;33m=\u001b[0m \u001b[1;33m{\u001b[0m\u001b[1;33m}\u001b[0m\u001b[1;33m\u001b[0m\u001b[0m\n\u001b[0;32m      3\u001b[0m \u001b[1;33m\u001b[0m\u001b[0m\n\u001b[1;32m----> 4\u001b[1;33m \u001b[0mfront_dict\u001b[0m\u001b[1;33m[\u001b[0m\u001b[1;36m1\u001b[0m\u001b[1;33m]\u001b[0m \u001b[1;33m==\u001b[0m \u001b[1;32mNone\u001b[0m\u001b[1;33m\u001b[0m\u001b[0m\n\u001b[0m",
      "\u001b[1;31mKeyError\u001b[0m: 1"
     ]
    }
   ],
   "source": [
    "front_dict = {}\n",
    "back_dict = {}\n",
    "\n",
    "front_dict[1] == None"
   ]
  },
  {
   "cell_type": "code",
   "execution_count": 17,
   "metadata": {},
   "outputs": [
    {
     "data": {
      "text/plain": [
       "{1: <__main__.Trie at 0x18a0c682c18>}"
      ]
     },
     "execution_count": 17,
     "metadata": {},
     "output_type": "execute_result"
    }
   ],
   "source": [
    "trie_dict"
   ]
  },
  {
   "cell_type": "code",
   "execution_count": 5,
   "metadata": {},
   "outputs": [
    {
     "data": {
      "text/plain": [
       "1"
      ]
     },
     "execution_count": 5,
     "metadata": {},
     "output_type": "execute_result"
    }
   ],
   "source": [
    "query =\"?????\"\n",
    "\n",
    "len(set(query))"
   ]
  },
  {
   "cell_type": "code",
   "execution_count": 14,
   "metadata": {},
   "outputs": [],
   "source": [
    "def solution(words, queries):\n",
    "    front_dict = {}\n",
    "    back_dict = {}\n",
    "    count = []\n",
    "\n",
    "    for word in words:\n",
    "        if len(word) not in front_dict:\n",
    "            front_dict[len(word)] = Trie()\n",
    "        if len(word) not in back_dict:\n",
    "            back_dict[len(word)] = Trie()\n",
    "\n",
    "        front_dict[len(word)].insert(word)\n",
    "        back_dict[len(word)].insert(word[::-1])\n",
    "\n",
    "    for query in queries:\n",
    "        try:\n",
    "            if query[0] is \"?\":\n",
    "                if len(set(query)) is 1:\n",
    "                    count.append(len(words))\n",
    "                else:\n",
    "                    count.append(back_dict[len(query)].starts_with(query[::-1].split('?')[0]))\n",
    "            else: \n",
    "                count.append(front_dict[len(query)].starts_with(query.split('?')[0]))\n",
    "        except:\n",
    "            count.append(0)\n",
    "            \n",
    "    return count"
   ]
  },
  {
   "cell_type": "code",
   "execution_count": 15,
   "metadata": {},
   "outputs": [
    {
     "data": {
      "text/plain": [
       "[3, 2, 4, 1, 0]"
      ]
     },
     "execution_count": 15,
     "metadata": {},
     "output_type": "execute_result"
    }
   ],
   "source": [
    "solution(words, queries)"
   ]
  },
  {
   "cell_type": "code",
   "execution_count": 133,
   "metadata": {},
   "outputs": [],
   "source": [
    "def solution(words, queries):\n",
    "    count = []\n",
    "\n",
    "    for out_query in queries:\n",
    "        plus_count = 0\n",
    "        flag = 0\n",
    "        string_length = len(out_query)\n",
    "        split_query = out_query.split('?')[0]\n",
    "\n",
    "        if split_query == '':\n",
    "            flag = 1\n",
    "            split_query = out_query[::-1].split('?')[0]\n",
    "\n",
    "        for word in words:\n",
    "            if string_length == len(word):\n",
    "                if flag:\n",
    "                    word = word[::-1]\n",
    "\n",
    "                if word[:len(split_query)] == split_query:\n",
    "                    plus_count += 1\n",
    "\n",
    "        count.append(plus_count)\n",
    "        \n",
    "    return count"
   ]
  },
  {
   "cell_type": "code",
   "execution_count": null,
   "metadata": {},
   "outputs": [],
   "source": [
    "def solution(words, queries):\n",
    "    count = []\n",
    "    inner = 0\n",
    "    \n",
    "    for query in queries:\n",
    "        count.append(inner)\n",
    "        inner+=1\n",
    "        \n",
    "    return count"
   ]
  },
  {
   "cell_type": "code",
   "execution_count": null,
   "metadata": {},
   "outputs": [],
   "source": [
    "def solution(words, queries):\n",
    "    front_dict = {}\n",
    "    back_dict = {}\n",
    "    count = []\n",
    "\n",
    "    for word in words:\n",
    "        if len(word) not in front_dict:\n",
    "            front_dict[len(word)] = Trie()\n",
    "        if len(word) not in back_dict:\n",
    "            back_dict[len(word)] = Trie()\n",
    "\n",
    "        front_dict[len(word)].insert(word)\n",
    "        back_dict[len(word)].insert(word[::-1])\n",
    "\n",
    "    for query in queries:\n",
    "        try:\n",
    "            if query[0] is \"?\":\n",
    "                count.append(back_dict[len(query)].starts_with(query[::-1].replace('?','')))\n",
    "            else: \n",
    "                count.append(front_dict[len(query)].starts_with(query.replace('?','')))\n",
    "        except:\n",
    "            count.append(0)\n",
    "            \n",
    "    return count\n",
    "    \n",
    "class Node(object):\n",
    "    def __init__(self, key):\n",
    "        self.key = key\n",
    "        self.children = {}\n",
    "        self.count = 0\n",
    "        \n",
    "class Node(object):\n",
    "    def __init__(self, key):\n",
    "        self.key = key\n",
    "        self.children = {}\n",
    "        self.count = 0\n",
    "        \n",
    "class Trie(object):\n",
    "    def __init__(self):\n",
    "        self.head = Node(None)\n",
    "        \n",
    "    def insert(self, string):\n",
    "        curr_node = self.head\n",
    "        \n",
    "        for char in string:\n",
    "            if char not in curr_node.children:\n",
    "                curr_node.children[char] = Node(char)\n",
    "                \n",
    "            curr_node = curr_node.children[char]\n",
    "            curr_node.count += 1\n",
    "\n",
    "    def starts_with(self, prefix):\n",
    "        curr_node = self.head\n",
    "        if curr_node.children[prefix[0]]:\n",
    "            curr_node = curr_node.children[prefix[0]]\n",
    "        else:\n",
    "            return 0\n",
    "        \n",
    "        for index in range(1, len(prefix)):\n",
    "            if curr_node.children[prefix[index]]:\n",
    "                curr_node = curr_node.children[prefix[index]]\n",
    "            else:\n",
    "                return 0\n",
    "                \n",
    "        return curr_node.count"
   ]
  }
 ],
 "metadata": {
  "kernelspec": {
   "display_name": "Python 3",
   "language": "python",
   "name": "python3"
  },
  "language_info": {
   "codemirror_mode": {
    "name": "ipython",
    "version": 3
   },
   "file_extension": ".py",
   "mimetype": "text/x-python",
   "name": "python",
   "nbconvert_exporter": "python",
   "pygments_lexer": "ipython3",
   "version": "3.6.3"
  }
 },
 "nbformat": 4,
 "nbformat_minor": 2
}
