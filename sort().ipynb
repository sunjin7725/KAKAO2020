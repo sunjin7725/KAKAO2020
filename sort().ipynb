{
 "cells": [
  {
   "cell_type": "code",
   "execution_count": 1,
   "metadata": {},
   "outputs": [],
   "source": [
    "test1 = \"(()())()\"\n",
    "test2 = \")(\"\n",
    "test3 = \"()))((()\"\n",
    "test4 = \")()))(((()\"\n",
    "\n",
    "answer1 = \"(()())()\"\n",
    "answer2 = \"()\"\n",
    "answer3 = \"()(())()\"\n"
   ]
  },
  {
   "cell_type": "code",
   "execution_count": 2,
   "metadata": {},
   "outputs": [],
   "source": [
    "def balance(s):\n",
    "    global result, a_u, a_v\n",
    "    _dict = {\"(\":0,\")\":0}\n",
    "    u=\"\"\n",
    "    v=\"\"\n",
    "    for i in range(len(s)):\n",
    "        if s[i] == \"(\":\n",
    "            _dict[\"(\"] += 1\n",
    "        else: _dict[\")\"] += 1\n",
    "\n",
    "        if _dict[\"(\"] == _dict[\")\"]:\n",
    "            u = s[:i+1]\n",
    "            v = s[i+1:]\n",
    "            break\n",
    "\n",
    "    return u,v"
   ]
  },
  {
   "cell_type": "code",
   "execution_count": 4,
   "metadata": {},
   "outputs": [],
   "source": [
    "def solution(p):\n",
    "    if p is \"\": return p\n",
    "    \n",
    "    u,v = balance(p)\n",
    "    \n",
    "    if u[0] is \"(\":\n",
    "        a_u = solution(v)\n",
    "        return u + a_u\n",
    "    \n",
    "    else:\n",
    "        collect_u =\"(\"\n",
    "        _str = solution(v)\n",
    "        collect_u += _str\n",
    "        collect_u += \")\"\n",
    "        u = list(u[1:-1])\n",
    "        for i in range(len(u)):\n",
    "            if u[i] == \"(\": \n",
    "                u[i] = \")\"\n",
    "            else: \n",
    "                u[i] = \"(\"\n",
    "        \n",
    "        collect_u += \"\".join(u)\n",
    "        \n",
    "        return collect_u"
   ]
  },
  {
   "cell_type": "code",
   "execution_count": 5,
   "metadata": {},
   "outputs": [
    {
     "data": {
      "text/plain": [
       "'()(())()'"
      ]
     },
     "execution_count": 5,
     "metadata": {},
     "output_type": "execute_result"
    }
   ],
   "source": [
    "solution(test3)"
   ]
  },
  {
   "cell_type": "code",
   "execution_count": null,
   "metadata": {},
   "outputs": [],
   "source": []
  }
 ],
 "metadata": {
  "kernelspec": {
   "display_name": "Python 3",
   "language": "python",
   "name": "python3"
  }
 },
 "nbformat": 4,
 "nbformat_minor": 2
}
