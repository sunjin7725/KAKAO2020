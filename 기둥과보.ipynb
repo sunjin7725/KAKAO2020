{
 "cells": [
  {
   "cell_type": "code",
   "execution_count": 19,
   "metadata": {},
   "outputs": [],
   "source": [
    "build_frame = [[1,0,0,1],[1,1,1,1],[2,1,0,1],[2,2,1,1],[5,0,0,1],[5,1,0,1],[4,2,1,1],[3,2,1,1]]\n",
    "real_result = [[1,0,0],[1,1,1],[2,1,0],[2,2,1],[3,2,1],[4,2,1],[5,0,0],[5,1,0]]"
   ]
  },
  {
   "cell_type": "code",
   "execution_count": 20,
   "metadata": {},
   "outputs": [],
   "source": [
    "result = ()\n",
    "for frame in build_frame:\n",
    "    x, y, what, how = frame\n",
    "    \n",
    "    if how: ## 설치 할 때\n",
    "        result.add((x,y,what))\n",
    "\n",
    "    else: ## 제거할 떄\n",
    "        result.remove(x,y,what)\n",
    "        \n",
    "result = [list(i) for i in sorted(result)]"
   ]
  },
  {
   "cell_type": "code",
   "execution_count": null,
   "metadata": {},
   "outputs": [],
   "source": [
    "def can_make_frame(x,y,what,result):\n",
    "    if what:\n",
    "        if (x,y,what) not in result:\n",
    "            if (x,y,) in result and (x+1,y,)\n",
    "            return True\n",
    "        else:\n",
    "            return False\n",
    "    else:\n",
    "        if (x,y,what) not in result:\n",
    "            return True\n",
    "        else:\n",
    "            return False"
   ]
  },
  {
   "cell_type": "code",
   "execution_count": null,
   "metadata": {},
   "outputs": [],
   "source": [
    "def can_delete_frame(x,y,what,result):\n",
    "    if what:\n",
    "        \n",
    "    else:"
   ]
  },
  {
   "cell_type": "code",
   "execution_count": null,
   "metadata": {},
   "outputs": [],
   "source": [
    "def can_frame(result):\n",
    "    for x,y,what in result:\n",
    "        if what:\n",
    "            if (x,y-1,0) in result or (x+1,y-1,0) in result or ((x-1,y,1) in result and (x+1,y,1) in result):\n",
    "                continue\n",
    "            else:\n",
    "                return False\n",
    "        else:\n",
    "            if y is 0 or (x, y-1, 0) in result or (x-1,y,1) in result or (x,y,1) in result:\n",
    "                continue\n",
    "            else:\n",
    "                return False\n",
    "\n",
    "    return True\n",
    "\n",
    "def solution(n, build_frame):\n",
    "    result = set()\n",
    "    for frame in build_frame:\n",
    "        x, y, what, how = frame\n",
    "\n",
    "        if how:\n",
    "            result.add((x,y,what))\n",
    "\n",
    "            if can_frame(result) is False:\n",
    "                result.remove((x,y,what))\n",
    "        else:\n",
    "            if (x,y,what) in result:\n",
    "                result.remove((x,y,what))\n",
    "\n",
    "                if can_frame(result) is False:\n",
    "                    result.add((x,y,what))\n",
    "\n",
    "    result = [list(i) for i in sorted(result)]\n",
    "    return result"
   ]
  },
  {
   "cell_type": "code",
   "execution_count": null,
   "metadata": {},
   "outputs": [],
   "source": []
  }
 ],
 "metadata": {
  "kernelspec": {
   "display_name": "Python 3",
   "language": "python",
   "name": "python3"
  },
  "language_info": {
   "codemirror_mode": {
    "name": "ipython",
    "version": 3
   },
   "file_extension": ".py",
   "mimetype": "text/x-python",
   "name": "python",
   "nbconvert_exporter": "python",
   "pygments_lexer": "ipython3",
   "version": "3.7.4"
  }
 },
 "nbformat": 4,
 "nbformat_minor": 2
}
